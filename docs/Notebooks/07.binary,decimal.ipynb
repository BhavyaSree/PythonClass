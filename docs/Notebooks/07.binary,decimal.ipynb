{
 "cells": [
  {
   "cell_type": "markdown",
   "metadata": {},
   "source": [
    "## Convert decimal number to binary"
   ]
  },
  {
   "cell_type": "code",
   "execution_count": 10,
   "metadata": {},
   "outputs": [],
   "source": [
    "def decimalToBinary(num):\n",
    "    if num > 1:\n",
    "        decimalToBinary(num // 2)\n",
    "    print(num % 2, end='')"
   ]
  },
  {
   "cell_type": "code",
   "execution_count": 11,
   "metadata": {},
   "outputs": [
    {
     "name": "stdout",
     "output_type": "stream",
     "text": [
      "1010"
     ]
    }
   ],
   "source": [
    "decimalToBinary(10)"
   ]
  },
  {
   "cell_type": "markdown",
   "metadata": {},
   "source": [
    "## Pythonic way to convert decimal to binary\n",
    "\n",
    "Python has  bin() method to convert decimal numbers into binary. The bin() method converts and returns the binary equivalent string of a given integer."
   ]
  },
  {
   "cell_type": "code",
   "execution_count": 17,
   "metadata": {},
   "outputs": [
    {
     "name": "stdout",
     "output_type": "stream",
     "text": [
      "Enter a decimal number :10\n",
      "The binary number is : 1010\n"
     ]
    }
   ],
   "source": [
    "decimal = int(input(\"Enter a decimal number :\"))\n",
    "\n",
    "binary = bin(decimal).replace(\"0b\", \"\")  \n",
    "print(\"The binary number is :\", binary)"
   ]
  },
  {
   "cell_type": "markdown",
   "metadata": {},
   "source": [
    "## Convert binary to decimal number"
   ]
  },
  {
   "cell_type": "code",
   "execution_count": 27,
   "metadata": {},
   "outputs": [],
   "source": [
    "def binaryToDecimal(binary): \n",
    "    \n",
    "    decimal = 0 \n",
    "    \n",
    "    for digit in binary: \n",
    "        decimal = decimal*2 + int(digit) \n",
    "        print(int(digit))\n",
    "        print('decimal', decimal)\n",
    "    print(\"The decimal value is:\", decimal)"
   ]
  },
  {
   "cell_type": "code",
   "execution_count": 28,
   "metadata": {},
   "outputs": [
    {
     "name": "stdout",
     "output_type": "stream",
     "text": [
      "1\n",
      "decimal 1\n",
      "0\n",
      "decimal 2\n",
      "The decimal value is: 2\n"
     ]
    }
   ],
   "source": [
    "binaryToDecimal('10')"
   ]
  },
  {
   "cell_type": "code",
   "execution_count": 56,
   "metadata": {},
   "outputs": [],
   "source": [
    "def binaryToDecimal(binary):\n",
    "    value = 0\n",
    "    \n",
    "    for i in range(len(binary)):\n",
    "        digit = binary.pop()\n",
    "        if digit == '1':\n",
    "            value = value + pow(2, i)\n",
    "            \n",
    "    print(\"The decimal value of the number is\", value)"
   ]
  },
  {
   "cell_type": "code",
   "execution_count": 58,
   "metadata": {},
   "outputs": [
    {
     "name": "stdout",
     "output_type": "stream",
     "text": [
      "Enter a binary number:10\n",
      "The decimal value of the number is 2\n"
     ]
    }
   ],
   "source": [
    "binary = list(input(\"Enter a binary number:\"))\n",
    "\n",
    "binaryToDecimal(binary)"
   ]
  },
  {
   "cell_type": "markdown",
   "metadata": {},
   "source": [
    "## Pythonic way to convert binary into decimal\n",
    "\n",
    "We can use the built-in int() function to convert binary numbers into decimals. The int() function converts the binary string in base 2 number."
   ]
  },
  {
   "cell_type": "code",
   "execution_count": 60,
   "metadata": {},
   "outputs": [
    {
     "name": "stdout",
     "output_type": "stream",
     "text": [
      "Enter a binary number :20\n",
      "Invalid binary number\n"
     ]
    }
   ],
   "source": [
    "binary_string = input(\"Enter a binary number :\")\n",
    "\n",
    "try:\n",
    "    decimal = int(binary_string, 2)  \n",
    "    print(\"The decimal value is :\", decimal)    \n",
    "    \n",
    "except ValueError:\n",
    "    print(\"Invalid binary number\")"
   ]
  }
 ],
 "metadata": {
  "kernelspec": {
   "display_name": "Python 3",
   "language": "python",
   "name": "python3"
  },
  "language_info": {
   "codemirror_mode": {
    "name": "ipython",
    "version": 3
   },
   "file_extension": ".py",
   "mimetype": "text/x-python",
   "name": "python",
   "nbconvert_exporter": "python",
   "pygments_lexer": "ipython3",
   "version": "3.7.6"
  }
 },
 "nbformat": 4,
 "nbformat_minor": 4
}
