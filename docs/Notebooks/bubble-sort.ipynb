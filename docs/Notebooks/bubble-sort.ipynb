{
 "cells": [
  {
   "cell_type": "markdown",
   "metadata": {},
   "source": [
    "## Write a Python program to sort a list of elements using the bubble sort algorithm.\n",
    "\n",
    "Bubble sort, sometimes referred to as sinking sort, is a simple sorting algorithm that repeatedly steps through the list, compares adjacent elements and swaps them if they are in the wrong order. The pass through the list is repeated until the list is sorted. The algorithm, which is a comparison sort, is named for the way smaller or larger elements \"bubble\" to the top of the list."
   ]
  },
  {
   "cell_type": "markdown",
   "metadata": {},
   "source": [
    "5,3,4,2,1  \n",
    "\n",
    "3,5,4,2,1  \n",
    "3,4,5,2,1  \n",
    "3,4,2,5,1  \n",
    "3,4,2,1,5  \n",
    "\n",
    "3,4,2,1,5  \n",
    "3,2,4,1,5  \n",
    "3,2,1,4,5  \n",
    "\n",
    "2,3,1,4,5  \n",
    "2,1,3,4,5  \n",
    "\n",
    "1,2,3,4,5  "
   ]
  },
  {
   "cell_type": "code",
   "execution_count": 28,
   "metadata": {},
   "outputs": [],
   "source": [
    "def bubble_sort(items):\n",
    "    n = len(items)\n",
    "    \n",
    "    for i in range(n-1):\n",
    "        \n",
    "        for j in range(n-i-1):\n",
    "            \n",
    "            # traverse the list from 0 to n-i-1\n",
    "            # Swap if the element found is greater than the next element\n",
    "            if items[j] > items[j+1] : \n",
    "                items[j], items[j+1] = items[j+1], items[j]\n",
    "                \n",
    "    return items"
   ]
  },
  {
   "cell_type": "code",
   "execution_count": 29,
   "metadata": {},
   "outputs": [],
   "source": [
    "mylist = [5,3,4,2,1]"
   ]
  },
  {
   "cell_type": "code",
   "execution_count": 30,
   "metadata": {},
   "outputs": [
    {
     "data": {
      "text/plain": [
       "[1, 2, 3, 4, 5]"
      ]
     },
     "execution_count": 30,
     "metadata": {},
     "output_type": "execute_result"
    }
   ],
   "source": [
    "bubble_sort(mylist)"
   ]
  },
  {
   "cell_type": "markdown",
   "metadata": {},
   "source": [
    "## i and j values for every iteration\n",
    "\n",
    "i --> 0,1,2,3,4\n",
    "\n",
    "i = 0\n",
    "j = 4 --> 0,1,2,3\n",
    "\n",
    "i = 1\n",
    "j = 3 --> 0,1,2\n",
    "\n",
    "i = 2\n",
    "j = 2 --> 0,1\n",
    "\n",
    "i = 3\n",
    "j = 1 --> 0\n",
    "\n"
   ]
  },
  {
   "cell_type": "code",
   "execution_count": null,
   "metadata": {},
   "outputs": [],
   "source": []
  }
 ],
 "metadata": {
  "kernelspec": {
   "display_name": "Python 3",
   "language": "python",
   "name": "python3"
  },
  "language_info": {
   "codemirror_mode": {
    "name": "ipython",
    "version": 3
   },
   "file_extension": ".py",
   "mimetype": "text/x-python",
   "name": "python",
   "nbconvert_exporter": "python",
   "pygments_lexer": "ipython3",
   "version": "3.7.6"
  }
 },
 "nbformat": 4,
 "nbformat_minor": 4
}
