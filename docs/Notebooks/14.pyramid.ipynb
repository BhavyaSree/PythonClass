{
 "cells": [
  {
   "cell_type": "markdown",
   "metadata": {},
   "source": [
    "## Write a program to print a pyramid"
   ]
  },
  {
   "cell_type": "code",
   "execution_count": 1,
   "metadata": {},
   "outputs": [],
   "source": [
    "def pyramid(rows):\n",
    "    \n",
    "    # For spaces\n",
    "    k = rows\n",
    "    \n",
    "    # Outerloop for number of rows\n",
    "    for i in range(0, rows): \n",
    "        # Innerloop for spaces\n",
    "        for _ in range(0, k):\n",
    "            print(end=' ')\n",
    "        \n",
    "        k = k-1\n",
    "        \n",
    "        # Inner loop to handle the values\n",
    "        for j in range(0, i+1):\n",
    "            print('*', end=' ')\n",
    "        print('\\r')"
   ]
  },
  {
   "cell_type": "code",
   "execution_count": 2,
   "metadata": {},
   "outputs": [
    {
     "name": "stdout",
     "output_type": "stream",
     "text": [
      "        * \r\n",
      "       * * \r\n",
      "      * * * \r\n",
      "     * * * * \r\n",
      "    * * * * * \r\n",
      "   * * * * * * \r\n",
      "  * * * * * * * \r\n",
      " * * * * * * * * \r\n"
     ]
    }
   ],
   "source": [
    "pyramid(8)"
   ]
  },
  {
   "cell_type": "code",
   "execution_count": null,
   "metadata": {},
   "outputs": [],
   "source": []
  }
 ],
 "metadata": {
  "kernelspec": {
   "display_name": "Python 3",
   "language": "python",
   "name": "python3"
  },
  "language_info": {
   "codemirror_mode": {
    "name": "ipython",
    "version": 3
   },
   "file_extension": ".py",
   "mimetype": "text/x-python",
   "name": "python",
   "nbconvert_exporter": "python",
   "pygments_lexer": "ipython3",
   "version": "3.7.6"
  }
 },
 "nbformat": 4,
 "nbformat_minor": 4
}
