{
 "cells": [
  {
   "cell_type": "code",
   "execution_count": null,
   "metadata": {},
   "outputs": [],
   "source": [
    "### Create a multi Index dataframe\n",
    "\n",
    "Create a hierarichal index\n",
    "Check each variable for understanding\n",
    "create a multi index dataframe using randn, hierarichal index and columns\n",
    "select the data outer index\n",
    "select the data using outer and inner index\n",
    "select the columns\n",
    "select the data from the particular column in specific outer index\n",
    "Check index.names\n",
    "Assign index.names\n",
    "Get the partiuclar value from the dataframe\n",
    "cross section - xs  -- (indexname, levelname)"
   ]
  }
 ],
 "metadata": {
  "kernelspec": {
   "display_name": "Python 3",
   "language": "python",
   "name": "python3"
  },
  "language_info": {
   "codemirror_mode": {
    "name": "ipython",
    "version": 3
   },
   "file_extension": ".py",
   "mimetype": "text/x-python",
   "name": "python",
   "nbconvert_exporter": "python",
   "pygments_lexer": "ipython3",
   "version": "3.7.6"
  }
 },
 "nbformat": 4,
 "nbformat_minor": 4
}
