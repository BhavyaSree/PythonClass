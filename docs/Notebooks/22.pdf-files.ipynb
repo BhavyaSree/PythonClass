{
 "cells": [
  {
   "cell_type": "markdown",
   "metadata": {},
   "source": [
    "### import PyPDF2\n",
    "\n",
    "### Open the PDF file in read, binary mode\n",
    "\n",
    "### PyPDF2.PdfFileReader\n",
    "\n",
    "### num_Pages\n",
    "\n",
    "### getPage\n",
    "\n",
    "### extractText\n",
    "\n",
    "### Add pages\n",
    "    addPage\n",
    "    write\n",
    "    \n",
    "### get the text of all pages using for loop"
   ]
  },
  {
   "cell_type": "code",
   "execution_count": 2,
   "metadata": {},
   "outputs": [],
   "source": [
    "import PyPDF2"
   ]
  },
  {
   "cell_type": "code",
   "execution_count": 3,
   "metadata": {},
   "outputs": [],
   "source": [
    "f = open('Working_Business_Proposal.pdf','rb')"
   ]
  },
  {
   "cell_type": "code",
   "execution_count": 4,
   "metadata": {},
   "outputs": [],
   "source": [
    "pdf_reader = PyPDF2.PdfFileReader(f)"
   ]
  },
  {
   "cell_type": "code",
   "execution_count": 5,
   "metadata": {},
   "outputs": [
    {
     "data": {
      "text/plain": [
       "5"
      ]
     },
     "execution_count": 5,
     "metadata": {},
     "output_type": "execute_result"
    }
   ],
   "source": [
    "pdf_reader.numPages"
   ]
  },
  {
   "cell_type": "code",
   "execution_count": 7,
   "metadata": {},
   "outputs": [],
   "source": [
    "page_num = pdf_reader.getPage(0)"
   ]
  },
  {
   "cell_type": "code",
   "execution_count": 8,
   "metadata": {},
   "outputs": [],
   "source": [
    "data = page_num.extractText()"
   ]
  },
  {
   "cell_type": "code",
   "execution_count": 9,
   "metadata": {},
   "outputs": [
    {
     "data": {
      "text/plain": [
       "'Business Proposal\\n The Revolution is Coming\\n Leverage agile frameworks to provide a robust synopsis for high level \\noverviews. Iterative approaches to corporate strategy foster collaborative \\nthinking to further the overall value proposition. Organically grow the \\nholistic world view of disruptive innovation via workplace diversity and \\nempowerment. \\nBring to the table win-win survival strategies to ensure proactive \\ndomination. At the end of the day, going forward, a new normal that has \\nevolved from generation X is on the runway heading towards a streamlined \\ncloud solution. User generated content in real-time will have multiple \\ntouchpoints for offshoring. \\nCapitalize on low hanging fruit to identify a ballpark value added activity to \\nbeta test. Override the digital divide with additional clickthroughs from \\nDevOps. Nanotechnology immersion along the information highway will \\nclose the loop on focusing solely on the bottom line. Podcasting operational change management inside of workßows to \\nestablish a framework. Taking seamless key performance indicators ofßine \\nto maximise the long tail. Keeping your eye on the ball while performing a \\ndeep dive on the start-up mentality to derive convergence on cross-\\nplatform integration. \\nCollaboratively administrate empowered markets via plug-and-play \\nnetworks. Dynamically procrastinate B2C users after installed base \\nbeneÞts. Dramatically visualize customer directed convergence without \\nrevolutionary ROI. \\nEfÞciently unleash cross-media information without cross-media value. \\nQuickly maximize timely deliverables for real-time schemas. Dramatically \\nmaintain clicks-and-mortar solutions without functional solutions. \\nBUSINESS PROPOSAL\\n!1'"
      ]
     },
     "execution_count": 9,
     "metadata": {},
     "output_type": "execute_result"
    }
   ],
   "source": [
    "data"
   ]
  },
  {
   "cell_type": "code",
   "execution_count": 10,
   "metadata": {},
   "outputs": [
    {
     "name": "stdout",
     "output_type": "stream",
     "text": [
      "Business Proposal\n",
      " The Revolution is Coming\n",
      " Leverage agile frameworks to provide a robust synopsis for high level \n",
      "overviews. Iterative approaches to corporate strategy foster collaborative \n",
      "thinking to further the overall value proposition. Organically grow the \n",
      "holistic world view of disruptive innovation via workplace diversity and \n",
      "empowerment. \n",
      "Bring to the table win-win survival strategies to ensure proactive \n",
      "domination. At the end of the day, going forward, a new normal that has \n",
      "evolved from generation X is on the runway heading towards a streamlined \n",
      "cloud solution. User generated content in real-time will have multiple \n",
      "touchpoints for offshoring. \n",
      "Capitalize on low hanging fruit to identify a ballpark value added activity to \n",
      "beta test. Override the digital divide with additional clickthroughs from \n",
      "DevOps. Nanotechnology immersion along the information highway will \n",
      "close the loop on focusing solely on the bottom line. Podcasting operational change management inside of workßows to \n",
      "establish a framework. Taking seamless key performance indicators ofßine \n",
      "to maximise the long tail. Keeping your eye on the ball while performing a \n",
      "deep dive on the start-up mentality to derive convergence on cross-\n",
      "platform integration. \n",
      "Collaboratively administrate empowered markets via plug-and-play \n",
      "networks. Dynamically procrastinate B2C users after installed base \n",
      "beneÞts. Dramatically visualize customer directed convergence without \n",
      "revolutionary ROI. \n",
      "EfÞciently unleash cross-media information without cross-media value. \n",
      "Quickly maximize timely deliverables for real-time schemas. Dramatically \n",
      "maintain clicks-and-mortar solutions without functional solutions. \n",
      "BUSINESS PROPOSAL\n",
      "!1\n"
     ]
    }
   ],
   "source": [
    "print(data)"
   ]
  },
  {
   "cell_type": "code",
   "execution_count": 15,
   "metadata": {},
   "outputs": [],
   "source": [
    "full_data = []\n",
    "\n",
    "for page in range(pdf_reader.numPages):\n",
    "    page_num = pdf_reader.getPage(page)\n",
    "    data = page_num.extractText()\n",
    "    full_data.append(data)"
   ]
  },
  {
   "cell_type": "code",
   "execution_count": 23,
   "metadata": {},
   "outputs": [
    {
     "name": "stdout",
     "output_type": "stream",
     "text": [
      "Completely synergize resource taxing relationships via premier niche \n",
      "markets. Professionally cultivate one-to-one customer service with robust \n",
      "ideas. Dynamically innovate resource-leveling customer service for state of \n",
      "the art customer service. \n",
      "Objectively innovate empowered manufactured products whereas parallel \n",
      "platforms. Holisticly predominate extensible testing procedures for reliable \n",
      "supply chains. Dramatically engage top-line web services vis-a-vis \n",
      "cutting-edge deliverables. Proactively envisioned multimedia based expertise and cross-media \n",
      "growth strategies. Seamlessly visualize quality intellectual capital without \n",
      "superior collaboration and idea-sharing. Holistically pontiÞcate installed \n",
      "base portals after maintainable products. \n",
      "Phosßuorescently engage worldwide methodologies with web-enabled \n",
      "technology. Interactively coordinate proactive e-commerce via process-\n",
      "centric \"outside the box\" thinking. Completely pursue scalable customer \n",
      "service through sustainable potentialities. \n",
      "Collaboratively administrate turnkey channels whereas virtual e-tailers. \n",
      "Objectively seize scalable metrics whereas proactive e-services. \n",
      "Seamlessly empower fully researched growth strategies and interoperable \n",
      "internal or \"organic\" sources. \n",
      "Credibly innovate granular internal or \"organic\" sources whereas high \n",
      "standards in web-readiness. Energistically scale future-proof core \n",
      "competencies vis-a-vis impactful experiences. Dramatically synthesize \n",
      "integrated schemas with optimal networks. Interactively procrastinate high-payoff content without backward-\n",
      "compatible data. Quickly cultivate optimal processes and tactical \n",
      "architectures. Completely iterate covalent strategic theme areas via \n",
      "accurate e-markets. Globally incubate standards compliant channels before scalable beneÞts. \n",
      "Quickly disseminate superior deliverables whereas web-enabled \n",
      "BUSINESS PROPOSAL\n",
      "!2\n"
     ]
    }
   ],
   "source": [
    "print(full_data[1])"
   ]
  },
  {
   "cell_type": "code",
   "execution_count": null,
   "metadata": {},
   "outputs": [],
   "source": []
  },
  {
   "cell_type": "code",
   "execution_count": 24,
   "metadata": {},
   "outputs": [],
   "source": [
    "f = open('Working_Business_Proposal.pdf','rb')"
   ]
  },
  {
   "cell_type": "code",
   "execution_count": 25,
   "metadata": {},
   "outputs": [],
   "source": [
    "pdf_reader = PyPDF2.PdfFileReader(f)"
   ]
  },
  {
   "cell_type": "code",
   "execution_count": 26,
   "metadata": {},
   "outputs": [],
   "source": [
    "first_page = pdf_reader.getPage(0)"
   ]
  },
  {
   "cell_type": "code",
   "execution_count": 27,
   "metadata": {},
   "outputs": [
    {
     "data": {
      "text/plain": [
       "PyPDF2.pdf.PageObject"
      ]
     },
     "execution_count": 27,
     "metadata": {},
     "output_type": "execute_result"
    }
   ],
   "source": [
    "type(first_page)"
   ]
  },
  {
   "cell_type": "code",
   "execution_count": 29,
   "metadata": {},
   "outputs": [],
   "source": [
    "pdf_writer = PyPDF2.PdfFileWriter()"
   ]
  },
  {
   "cell_type": "code",
   "execution_count": 30,
   "metadata": {},
   "outputs": [],
   "source": [
    "pdf_writer.addPage(first_page)"
   ]
  },
  {
   "cell_type": "code",
   "execution_count": 38,
   "metadata": {},
   "outputs": [],
   "source": [
    "for i in range(pdf_reader.numPages):\n",
    "    page = pdf_reader.getPage(i)\n",
    "    pdf_writer.addPage(page)"
   ]
  },
  {
   "cell_type": "code",
   "execution_count": 39,
   "metadata": {},
   "outputs": [],
   "source": [
    "new = open('new_file2.pdf','wb')"
   ]
  },
  {
   "cell_type": "code",
   "execution_count": 40,
   "metadata": {},
   "outputs": [],
   "source": [
    "pdf_writer.write(new)"
   ]
  },
  {
   "cell_type": "code",
   "execution_count": 41,
   "metadata": {},
   "outputs": [],
   "source": [
    "new.close()"
   ]
  },
  {
   "cell_type": "code",
   "execution_count": null,
   "metadata": {},
   "outputs": [],
   "source": []
  }
 ],
 "metadata": {
  "kernelspec": {
   "display_name": "Python 3",
   "language": "python",
   "name": "python3"
  },
  "language_info": {
   "codemirror_mode": {
    "name": "ipython",
    "version": 3
   },
   "file_extension": ".py",
   "mimetype": "text/x-python",
   "name": "python",
   "nbconvert_exporter": "python",
   "pygments_lexer": "ipython3",
   "version": "3.7.6"
  }
 },
 "nbformat": 4,
 "nbformat_minor": 4
}
