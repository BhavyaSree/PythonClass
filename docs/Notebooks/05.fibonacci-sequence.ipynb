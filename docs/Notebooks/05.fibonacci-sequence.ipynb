{
 "cells": [
  {
   "cell_type": "markdown",
   "metadata": {},
   "source": [
    "## Fibonacci Sequence\n",
    "\n",
    "A Fibonacci sequence is the integer sequence of 0, 1, 1, 2, 3, 5, 8....\n",
    "\n",
    "The first two terms are 0 and 1. All other terms are obtained by adding the preceding two terms. This means to say the nth term is the sum of (n-1)th and (n-2)th term."
   ]
  },
  {
   "cell_type": "code",
   "execution_count": null,
   "metadata": {},
   "outputs": [],
   "source": [
    "n = int(input(\"How many terms do you want? \"))\n",
    "\n",
    "## Initializing first two terms\n",
    "n1 = 0\n",
    "n2 = 1\n",
    "\n",
    "count = 0\n",
    "\n",
    "if n <= 0 :\n",
    "    print('Please enter a positive number')\n",
    "else:\n",
    "    print(\"Fibonacci sequence:\")\n",
    "    while count < n:\n",
    "        print(n1)\n",
    "        nth = n1 + n2\n",
    "        # update values\n",
    "        n1 = n2\n",
    "        n2 = nth\n",
    "        count += 1"
   ]
  },
  {
   "cell_type": "code",
   "execution_count": 8,
   "metadata": {},
   "outputs": [
    {
     "name": "stdout",
     "output_type": "stream",
     "text": [
      "How many terms do you want? 6\n",
      "Fibonacci sequence:\n",
      "0\n",
      "1\n",
      "1\n",
      "2\n",
      "3\n",
      "5\n"
     ]
    }
   ],
   "source": [
    "n = int(input(\"How many terms do you want? \"))\n",
    "\n",
    "## Initializing first two terms\n",
    "n1 = 0\n",
    "n2 = 1\n",
    "\n",
    "count = 0\n",
    "\n",
    "if n <= 0 :\n",
    "    print('Please enter a positive number')\n",
    "else:\n",
    "    print(\"Fibonacci sequence:\")\n",
    "    while count < n:\n",
    "        print(n1)\n",
    "        n1, n2 = n2, n1+n2\n",
    "        count += 1"
   ]
  },
  {
   "cell_type": "code",
   "execution_count": 9,
   "metadata": {},
   "outputs": [],
   "source": [
    "def fibonacci (n):\n",
    "    n1 = 0\n",
    "    n2 = 1\n",
    "    \n",
    "    count = 0\n",
    "    \n",
    "    if n <= 0 :\n",
    "        print('Please provide a positive number')\n",
    "    else:\n",
    "        print(\"Fibonacci sequence:\")\n",
    "        while count < n:\n",
    "            print(n1)\n",
    "            n1, n2 = n2, n1+n2\n",
    "            count += 1"
   ]
  },
  {
   "cell_type": "code",
   "execution_count": 14,
   "metadata": {},
   "outputs": [
    {
     "name": "stdout",
     "output_type": "stream",
     "text": [
      "Fibonacci sequence:\n",
      "0\n",
      "1\n",
      "1\n",
      "2\n"
     ]
    }
   ],
   "source": [
    "fibonacci(4)"
   ]
  },
  {
   "cell_type": "code",
   "execution_count": null,
   "metadata": {},
   "outputs": [],
   "source": []
  }
 ],
 "metadata": {
  "kernelspec": {
   "display_name": "Python 3",
   "language": "python",
   "name": "python3"
  },
  "language_info": {
   "codemirror_mode": {
    "name": "ipython",
    "version": 3
   },
   "file_extension": ".py",
   "mimetype": "text/x-python",
   "name": "python",
   "nbconvert_exporter": "python",
   "pygments_lexer": "ipython3",
   "version": "3.7.6"
  }
 },
 "nbformat": 4,
 "nbformat_minor": 4
}
