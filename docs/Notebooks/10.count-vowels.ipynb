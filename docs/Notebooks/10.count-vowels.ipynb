{
 "cells": [
  {
   "cell_type": "markdown",
   "metadata": {},
   "source": [
    "##  Enter a string and the program counts the number of vowels in the text. "
   ]
  },
  {
   "cell_type": "code",
   "execution_count": 11,
   "metadata": {},
   "outputs": [],
   "source": [
    "def count_vowels(string):\n",
    "    \n",
    "    vowels = ['a','e','i','o','u','A','E','I','O','U']\n",
    "    \n",
    "    count = 0\n",
    "    \n",
    "    for char in string:\n",
    "        for vowel in vowels:\n",
    "            if char == vowel:\n",
    "                count +=1\n",
    "                \n",
    "    print('Number of vowels in the given string is', count)"
   ]
  },
  {
   "cell_type": "code",
   "execution_count": 12,
   "metadata": {},
   "outputs": [
    {
     "name": "stdout",
     "output_type": "stream",
     "text": [
      "Number of vowels in the given string is 1\n"
     ]
    }
   ],
   "source": [
    "count_vowels('Hi')"
   ]
  },
  {
   "cell_type": "code",
   "execution_count": null,
   "metadata": {},
   "outputs": [],
   "source": []
  },
  {
   "cell_type": "code",
   "execution_count": 17,
   "metadata": {},
   "outputs": [],
   "source": [
    "def count_vowels(string):\n",
    "    \n",
    "    vowels = ['a','e','i','o','u']\n",
    "    lower_string = string.lower()\n",
    "    \n",
    "    count = 0\n",
    "    \n",
    "    for char in lower_string:\n",
    "        for vowel in vowels:\n",
    "            if char == vowel:\n",
    "                count +=1\n",
    "                \n",
    "    print('Number of vowels in the given string is', count)"
   ]
  },
  {
   "cell_type": "code",
   "execution_count": 18,
   "metadata": {},
   "outputs": [
    {
     "name": "stdout",
     "output_type": "stream",
     "text": [
      "Number of vowels in the given string is 1\n"
     ]
    }
   ],
   "source": [
    "count_vowels('HI')"
   ]
  },
  {
   "cell_type": "code",
   "execution_count": null,
   "metadata": {},
   "outputs": [],
   "source": []
  }
 ],
 "metadata": {
  "kernelspec": {
   "display_name": "Python 3",
   "language": "python",
   "name": "python3"
  },
  "language_info": {
   "codemirror_mode": {
    "name": "ipython",
    "version": 3
   },
   "file_extension": ".py",
   "mimetype": "text/x-python",
   "name": "python",
   "nbconvert_exporter": "python",
   "pygments_lexer": "ipython3",
   "version": "3.7.6"
  }
 },
 "nbformat": 4,
 "nbformat_minor": 4
}
