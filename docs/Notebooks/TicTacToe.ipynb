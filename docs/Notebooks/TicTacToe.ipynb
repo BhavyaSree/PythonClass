{
 "cells": [
  {
   "cell_type": "code",
   "execution_count": 5,
   "metadata": {},
   "outputs": [],
   "source": [
    "## function to display board"
   ]
  },
  {
   "cell_type": "code",
   "execution_count": 23,
   "metadata": {},
   "outputs": [],
   "source": [
    "def display(board):\n",
    "    print('-------')\n",
    "    print('|' + board[1] + '|' + board[2] +'|' + board[3] + '|')\n",
    "    print('-------')\n",
    "    print('|' + board[4] + '|' + board[5] +'|' + board[6] + '|')\n",
    "    print('-------')\n",
    "    print('|' + board[7] + '|' + board[8] +'|' + board[9] + '|')\n",
    "    print('-------')"
   ]
  },
  {
   "cell_type": "code",
   "execution_count": 24,
   "metadata": {},
   "outputs": [
    {
     "name": "stdout",
     "output_type": "stream",
     "text": [
      "-------\n",
      "|x|o|x|\n",
      "-------\n",
      "|o|x|o|\n",
      "-------\n",
      "|x|o|x|\n",
      "-------\n"
     ]
    }
   ],
   "source": [
    "test = ['','x','o','x','o','x','o','x','o','x']\n",
    "display(test)"
   ]
  },
  {
   "cell_type": "code",
   "execution_count": 4,
   "metadata": {},
   "outputs": [],
   "source": [
    "## choosing the player -- deciding who goes first"
   ]
  },
  {
   "cell_type": "code",
   "execution_count": 33,
   "metadata": {},
   "outputs": [],
   "source": [
    "import random\n",
    "\n",
    "def choose_first():\n",
    "    if random.randint(1,2) == 1:\n",
    "        print('player1')\n",
    "        return 'player1'\n",
    "    else:\n",
    "        print('player2')\n",
    "        return 'player2'\n",
    "    "
   ]
  },
  {
   "cell_type": "code",
   "execution_count": 41,
   "metadata": {},
   "outputs": [
    {
     "name": "stdout",
     "output_type": "stream",
     "text": [
      "player1\n"
     ]
    },
    {
     "data": {
      "text/plain": [
       "'player1'"
      ]
     },
     "execution_count": 41,
     "metadata": {},
     "output_type": "execute_result"
    }
   ],
   "source": [
    "choose_first()"
   ]
  },
  {
   "cell_type": "code",
   "execution_count": null,
   "metadata": {},
   "outputs": [],
   "source": [
    "## Player1 choosing the marker"
   ]
  },
  {
   "cell_type": "code",
   "execution_count": 43,
   "metadata": {},
   "outputs": [],
   "source": [
    "def marker_input():\n",
    "    marker = ''\n",
    "    \n",
    "    marker = input(\"Player1! Please choose 'X' or 'O' as your marker: \").upper()\n",
    "    \n",
    "    player1 = marker\n",
    "    \n",
    "    if player1 == 'X':\n",
    "        player2 = 'O'\n",
    "    else:\n",
    "        player2 = 'X'\n",
    "        \n",
    "    print('Player1', player1)\n",
    "    print('Player2', player2)\n",
    "    \n",
    "    return(player1, player2)"
   ]
  },
  {
   "cell_type": "code",
   "execution_count": 45,
   "metadata": {},
   "outputs": [
    {
     "name": "stdout",
     "output_type": "stream",
     "text": [
      "Player1! Please choose 'X' or 'O' as your marker: o\n",
      "Player1 O\n",
      "Player2 X\n"
     ]
    },
    {
     "data": {
      "text/plain": [
       "('O', 'X')"
      ]
     },
     "execution_count": 45,
     "metadata": {},
     "output_type": "execute_result"
    }
   ],
   "source": [
    "marker_input()"
   ]
  },
  {
   "cell_type": "code",
   "execution_count": null,
   "metadata": {},
   "outputs": [],
   "source": []
  }
 ],
 "metadata": {
  "kernelspec": {
   "display_name": "Python 3",
   "language": "python",
   "name": "python3"
  },
  "language_info": {
   "codemirror_mode": {
    "name": "ipython",
    "version": 3
   },
   "file_extension": ".py",
   "mimetype": "text/x-python",
   "name": "python",
   "nbconvert_exporter": "python",
   "pygments_lexer": "ipython3",
   "version": "3.7.6"
  }
 },
 "nbformat": 4,
 "nbformat_minor": 4
}
