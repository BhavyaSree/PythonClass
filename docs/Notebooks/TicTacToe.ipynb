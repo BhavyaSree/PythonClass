{
 "cells": [
  {
   "cell_type": "code",
   "execution_count": 1,
   "metadata": {},
   "outputs": [],
   "source": [
    "## function to display board"
   ]
  },
  {
   "cell_type": "code",
   "execution_count": 1,
   "metadata": {},
   "outputs": [],
   "source": [
    "from IPython.display import clear_output"
   ]
  },
  {
   "cell_type": "code",
   "execution_count": 55,
   "metadata": {},
   "outputs": [],
   "source": [
    "def display(board):\n",
    "    \n",
    "    clear_output()\n",
    "    \n",
    "    print('-------')\n",
    "    print('|' + board[1] + '|' + board[2] +'|' + board[3] + '|')\n",
    "    print('-------')\n",
    "    print('|' + board[4] + '|' + board[5] +'|' + board[6] + '|')\n",
    "    print('-------')\n",
    "    print('|' + board[7] + '|' + board[8] +'|' + board[9] + '|')\n",
    "    print('-------')"
   ]
  },
  {
   "cell_type": "code",
   "execution_count": 3,
   "metadata": {},
   "outputs": [
    {
     "name": "stdout",
     "output_type": "stream",
     "text": [
      "-------\n",
      "|x|o|x|\n",
      "-------\n",
      "|o|x|o|\n",
      "-------\n",
      "|x|o|x|\n",
      "-------\n"
     ]
    }
   ],
   "source": [
    "test = ['','x','o','x','o','x','o','x','o','x']\n",
    "display(test)"
   ]
  },
  {
   "cell_type": "code",
   "execution_count": 4,
   "metadata": {},
   "outputs": [],
   "source": [
    "## choosing the player -- deciding who goes first"
   ]
  },
  {
   "cell_type": "code",
   "execution_count": 38,
   "metadata": {},
   "outputs": [],
   "source": [
    "import random\n",
    "\n",
    "def choose_first():\n",
    "    if random.randint(1,2) == 1:\n",
    "        return 'player1'\n",
    "    else:\n",
    "        return 'player2'\n",
    "    "
   ]
  },
  {
   "cell_type": "code",
   "execution_count": 46,
   "metadata": {},
   "outputs": [
    {
     "data": {
      "text/plain": [
       "'player1'"
      ]
     },
     "execution_count": 46,
     "metadata": {},
     "output_type": "execute_result"
    }
   ],
   "source": [
    "choose_first()"
   ]
  },
  {
   "cell_type": "code",
   "execution_count": 32,
   "metadata": {},
   "outputs": [],
   "source": [
    "## Player1 choosing the marker"
   ]
  },
  {
   "cell_type": "code",
   "execution_count": 33,
   "metadata": {},
   "outputs": [],
   "source": [
    "def marker_input():\n",
    "    marker = ''\n",
    "    \n",
    "    while marker != 'X' and marker !='O':\n",
    "        marker = input(\"Player1! Please choose 'X' or 'O' as your marker: \").upper()\n",
    "    \n",
    "    player1 = marker\n",
    "    \n",
    "    if player1 == 'X':\n",
    "        player2 = 'O'\n",
    "    else:\n",
    "        player2 = 'X'\n",
    "        \n",
    "    print('Player1', player1)\n",
    "    print('Player2', player2)\n",
    "    \n",
    "    return(player1, player2)"
   ]
  },
  {
   "cell_type": "code",
   "execution_count": 7,
   "metadata": {},
   "outputs": [
    {
     "name": "stdout",
     "output_type": "stream",
     "text": [
      "Player1! Please choose 'X' or 'O' as your marker: x\n",
      "Player1 X\n",
      "Player2 O\n"
     ]
    },
    {
     "data": {
      "text/plain": [
       "('X', 'O')"
      ]
     },
     "execution_count": 7,
     "metadata": {},
     "output_type": "execute_result"
    }
   ],
   "source": [
    "marker_input()"
   ]
  },
  {
   "cell_type": "code",
   "execution_count": 24,
   "metadata": {},
   "outputs": [],
   "source": [
    "def space_check(board, position):\n",
    "    return board[position] == ' '"
   ]
  },
  {
   "cell_type": "code",
   "execution_count": 9,
   "metadata": {},
   "outputs": [
    {
     "data": {
      "text/plain": [
       "False"
      ]
     },
     "execution_count": 9,
     "metadata": {},
     "output_type": "execute_result"
    }
   ],
   "source": [
    "test = ['','x','o','x','o','x','o','x','o','x']\n",
    "space_check(test, 5)"
   ]
  },
  {
   "cell_type": "code",
   "execution_count": 53,
   "metadata": {},
   "outputs": [],
   "source": [
    "def player_choice(board):\n",
    "    position = 0\n",
    "    \n",
    "    while position not in [1,2,3,4,5,6,7,8,9] or not space_check(board, position):\n",
    "        position = int(input('Enter any position from [1-9]: '))\n",
    "    \n",
    "    return position"
   ]
  },
  {
   "cell_type": "code",
   "execution_count": 11,
   "metadata": {},
   "outputs": [],
   "source": [
    "def place_marker(board, marker, position):\n",
    "    board[position] = marker"
   ]
  },
  {
   "cell_type": "code",
   "execution_count": 12,
   "metadata": {},
   "outputs": [],
   "source": [
    "def win_check (board, marker):\n",
    "    return ((board[1] == board[2] == board[3] == marker) or (board[4] == board[5] == board[6] == marker) or \n",
    "           (board[7] == board[8] == board[9] == marker) or (board[1] == board[4] == board[7] == marker) or\n",
    "           (board[2] == board[5] == board[8] == marker) or (board[3] == board[6] == board[9] == marker) or\n",
    "           (board[1] == board[5] == board[9] == marker) or (board[3] == board[5] == board[7] == marker))"
   ]
  },
  {
   "cell_type": "code",
   "execution_count": 63,
   "metadata": {},
   "outputs": [],
   "source": [
    "def full_check(board):\n",
    "    for i in range(1,10):\n",
    "        if space_check(board,i):\n",
    "            return False\n",
    "    return True"
   ]
  },
  {
   "cell_type": "code",
   "execution_count": 14,
   "metadata": {},
   "outputs": [],
   "source": [
    "def replay():\n",
    "    return input('Do you want to play again? Yes or No: ').upper().startswith('Y')"
   ]
  },
  {
   "cell_type": "code",
   "execution_count": null,
   "metadata": {},
   "outputs": [
    {
     "name": "stdout",
     "output_type": "stream",
     "text": [
      "-------\n",
      "|X|O|X|\n",
      "-------\n",
      "|X|O|O|\n",
      "-------\n",
      "|O|X|X|\n",
      "-------\n",
      "Board is Full, Game is draw\n"
     ]
    }
   ],
   "source": [
    "print('Welcome to Tic Tac Toe')\n",
    "\n",
    "while True:\n",
    "    Board = [' '] * 10\n",
    "    player1_marker, player2_marker = marker_input()\n",
    "    turn = choose_first()\n",
    "    print(turn + ' will go first')\n",
    "    \n",
    "    play = input('Are you ready to play? Y/N:').upper()\n",
    "    \n",
    "    if play == 'Y':\n",
    "        game_on = True\n",
    "    else:\n",
    "        game_on = False\n",
    "    \n",
    "    while game_on:\n",
    "        if turn == 'player1':\n",
    "            display(Board)\n",
    "            position = player_choice(Board)\n",
    "            print(player1_marker, 'player1 marker in function')\n",
    "            place_marker(Board, player1_marker, position)\n",
    "\n",
    "            if win_check(Board, player1_marker):\n",
    "                display(Board)\n",
    "                print('Congratulations! you have won the Game')\n",
    "                game_on = False\n",
    "            else:\n",
    "                if full_check(Board):\n",
    "                    display(Board)\n",
    "                    print('Board is Full, Game is draw')\n",
    "                    break\n",
    "                else:\n",
    "                    turn = 'player2'\n",
    "\n",
    "        else:\n",
    "            display(Board)\n",
    "            position = player_choice(Board)\n",
    "            place_marker(Board, player2_marker, position)\n",
    "            \n",
    "            if win_check(Board, player2_marker):\n",
    "                display(Board)\n",
    "                print('Congratulations! you have won the Game')\n",
    "                game_on = False\n",
    "            else:\n",
    "                if full_check(Board):\n",
    "                    display(Board)\n",
    "                    print('Board is Full, Game is draw')\n",
    "                    break\n",
    "                else:\n",
    "                    turn = 'player1'\n",
    "\n",
    "\n",
    "    if not replay():\n",
    "        break"
   ]
  },
  {
   "cell_type": "code",
   "execution_count": null,
   "metadata": {},
   "outputs": [],
   "source": []
  }
 ],
 "metadata": {
  "kernelspec": {
   "display_name": "Python 3",
   "language": "python",
   "name": "python3"
  },
  "language_info": {
   "codemirror_mode": {
    "name": "ipython",
    "version": 3
   },
   "file_extension": ".py",
   "mimetype": "text/x-python",
   "name": "python",
   "nbconvert_exporter": "python",
   "pygments_lexer": "ipython3",
   "version": "3.7.6"
  }
 },
 "nbformat": 4,
 "nbformat_minor": 4
}
