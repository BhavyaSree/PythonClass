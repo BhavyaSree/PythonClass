{
 "cells": [
  {
   "cell_type": "markdown",
   "metadata": {},
   "source": [
    "Each major email provider has theit own SMTP(Simple mail Transfer protocol) server\n",
    "\n",
    "Provider | SMTP server domain name\n",
    "-- | --\n",
    "Gmail | smtp.gmail.com\n",
    "Yahoo mail | smtp.mail.yahoo.com\n",
    "\n",
    "For Gmail users, we will need to generate an app password instead of normal password.\n",
    "This let's gmail know that the python script attempting to access the account is authorized by you.\n"
   ]
  },
  {
   "cell_type": "markdown",
   "metadata": {},
   "source": [
    "## Sending Emails"
   ]
  },
  {
   "cell_type": "markdown",
   "metadata": {},
   "source": [
    "Import smtplib\n",
    "\n",
    "Create a object for the server\n",
    "\n",
    "ehlo method which creates the server and establishes the connection\n",
    "\n",
    "starttls method\n",
    "\n",
    "prompt for the password\n",
    "\n",
    "getpass\n",
    "\n",
    "App password  \n",
    "https://support.google.com/accounts/answer/185833?hl=en\n",
    "\n",
    "login with server object\n",
    "\n",
    "prompt for to_address, subject and message\n",
    "\n",
    "send mail with server object\n",
    "\n",
    "close the server object"
   ]
  },
  {
   "cell_type": "code",
   "execution_count": 4,
   "metadata": {},
   "outputs": [],
   "source": [
    "## eysackwdogjanekv"
   ]
  },
  {
   "cell_type": "code",
   "execution_count": 5,
   "metadata": {},
   "outputs": [],
   "source": [
    "import smtplib"
   ]
  },
  {
   "cell_type": "code",
   "execution_count": 6,
   "metadata": {},
   "outputs": [],
   "source": [
    "mail_server = smtplib.SMTP('smtp.gmail.com',587)"
   ]
  },
  {
   "cell_type": "code",
   "execution_count": 7,
   "metadata": {},
   "outputs": [
    {
     "data": {
      "text/plain": [
       "(250,\n",
       " b'smtp.gmail.com at your service, [2601:246:5500:4340:de5:8b30:f503:796]\\nSIZE 35882577\\n8BITMIME\\nSTARTTLS\\nENHANCEDSTATUSCODES\\nPIPELINING\\nCHUNKING\\nSMTPUTF8')"
      ]
     },
     "execution_count": 7,
     "metadata": {},
     "output_type": "execute_result"
    }
   ],
   "source": [
    "mail_server.ehlo()"
   ]
  },
  {
   "cell_type": "code",
   "execution_count": 8,
   "metadata": {},
   "outputs": [
    {
     "data": {
      "text/plain": [
       "(220, b'2.0.0 Ready to start TLS')"
      ]
     },
     "execution_count": 8,
     "metadata": {},
     "output_type": "execute_result"
    }
   ],
   "source": [
    "mail_server.starttls()"
   ]
  },
  {
   "cell_type": "code",
   "execution_count": 9,
   "metadata": {},
   "outputs": [
    {
     "name": "stdout",
     "output_type": "stream",
     "text": [
      "Please provide your password:hKjhi\n"
     ]
    }
   ],
   "source": [
    "password = input('Please provide your password:')"
   ]
  },
  {
   "cell_type": "code",
   "execution_count": 10,
   "metadata": {},
   "outputs": [],
   "source": [
    "import getpass"
   ]
  },
  {
   "cell_type": "code",
   "execution_count": 11,
   "metadata": {},
   "outputs": [
    {
     "name": "stdout",
     "output_type": "stream",
     "text": [
      "Please provide the email:········\n"
     ]
    }
   ],
   "source": [
    "email = getpass.getpass('Please provide the email:')"
   ]
  },
  {
   "cell_type": "code",
   "execution_count": 12,
   "metadata": {},
   "outputs": [
    {
     "name": "stdout",
     "output_type": "stream",
     "text": [
      "Please provide the password:········\n"
     ]
    }
   ],
   "source": [
    "password = getpass.getpass('Please provide the password:')"
   ]
  },
  {
   "cell_type": "code",
   "execution_count": 13,
   "metadata": {},
   "outputs": [
    {
     "data": {
      "text/plain": [
       "(235, b'2.7.0 Accepted')"
      ]
     },
     "execution_count": 13,
     "metadata": {},
     "output_type": "execute_result"
    }
   ],
   "source": [
    "mail_server.login(email,password)"
   ]
  },
  {
   "cell_type": "code",
   "execution_count": 16,
   "metadata": {},
   "outputs": [],
   "source": [
    "from_address = email\n",
    "to_address = 'sreebhavya.11@gmail.com'\n",
    "subject = 'Hi-Python Script'\n",
    "message = 'Test Script'\n",
    "msg = 'Subject: '+subject+'\\n'+message"
   ]
  },
  {
   "cell_type": "code",
   "execution_count": 17,
   "metadata": {},
   "outputs": [
    {
     "data": {
      "text/plain": [
       "{}"
      ]
     },
     "execution_count": 17,
     "metadata": {},
     "output_type": "execute_result"
    }
   ],
   "source": [
    "mail_server.sendmail(from_address, to_address, msg)"
   ]
  },
  {
   "cell_type": "code",
   "execution_count": 18,
   "metadata": {},
   "outputs": [
    {
     "data": {
      "text/plain": [
       "(221, b'2.0.0 closing connection h11sm11029722ilh.69 - gsmtp')"
      ]
     },
     "execution_count": 18,
     "metadata": {},
     "output_type": "execute_result"
    }
   ],
   "source": [
    "mail_server.quit()"
   ]
  },
  {
   "cell_type": "markdown",
   "metadata": {},
   "source": [
    "## Receiving mails"
   ]
  },
  {
   "cell_type": "markdown",
   "metadata": {},
   "source": [
    "import imaplib  -- Internet message access protocol\n",
    "\n",
    "connect to the server using imaplib.IMAP4_SSL\n",
    "\n",
    "import getpass and get email and password\n",
    "\n",
    "login with the imap object using email and password\n",
    "\n",
    "list method on the server object\n",
    "\n",
    "select inbox from the server object\n",
    "\n"
   ]
  },
  {
   "cell_type": "markdown",
   "metadata": {},
   "source": [
    " Keyword | Definition\n",
    " -- | --\n",
    " 'ALL' | Returns all messages in your email folder. Often there are size limits from imaplib. To change these use imaplib._MAXLINE = 100 , where 100 is whatever you want the limit to be.\n",
    "'BEFORE data' | Returns all messages before the date. Date must be formatted as 01-Nov-2000.\n",
    "'ON date' | Returns all messages on the date. Date must be formatted as 01-Nov-2000.\n",
    "'SINCE date' | Returns all messages after the date. Date must be formatted as 01-Nov-2000.\n",
    "'FROM some_string' | Returns all from the sender in the string. String can be an email, for example 'FROM     user@example.com' or just a string that may appear in the email, \"FROM example\"\n",
    "'TO some_string' | Returns all outgoing email to the email in the string. String can be an email, for example 'FROM user@example.com' or just a string that may appear in the email, \"FROM example\"\n",
    "CC some_string' and/or 'BCC some_string' | Returns all messages in your email folder. Often there are size limits from imaplib.To change these use imaplib._MAXLINE = 100 , where 100 is whatever you want the limit to be.\n",
    "'SUBJECT string','BODY string','TEXT \"string with spaces\"' | Returns all messages with the subject string or the string in the body of the email. If the string you are searching for has spaces in it, wrap it in double quotes.\n",
    "'SEEN', 'UNSEEN' | Returns all messages that have been seen or unseen. (Also known as read or unread)\n",
    "'ANSWERED', 'UNANSWERED' | Returns all messages that have been replied to or unreplied to. \n",
    "'DELETED', 'UNDELETED' | Returns all messages that have been deleted or that have not been deleted."
   ]
  },
  {
   "cell_type": "code",
   "execution_count": 30,
   "metadata": {},
   "outputs": [],
   "source": [
    "import imaplib"
   ]
  },
  {
   "cell_type": "code",
   "execution_count": 31,
   "metadata": {},
   "outputs": [],
   "source": [
    "mail_server = imaplib.IMAP4_SSL('imap.gmail.com')"
   ]
  },
  {
   "cell_type": "code",
   "execution_count": 32,
   "metadata": {},
   "outputs": [],
   "source": [
    "import getpass"
   ]
  },
  {
   "cell_type": "code",
   "execution_count": 33,
   "metadata": {},
   "outputs": [
    {
     "name": "stdout",
     "output_type": "stream",
     "text": [
      "Enter your email address:········\n",
      "Enter your password:········\n"
     ]
    }
   ],
   "source": [
    "email = getpass.getpass('Enter your email address:')\n",
    "password = getpass.getpass('Enter your password:')"
   ]
  },
  {
   "cell_type": "code",
   "execution_count": 34,
   "metadata": {},
   "outputs": [
    {
     "data": {
      "text/plain": [
       "('OK', [b'whoiskr@gmail.com authenticated (Success)'])"
      ]
     },
     "execution_count": 34,
     "metadata": {},
     "output_type": "execute_result"
    }
   ],
   "source": [
    "mail_server.login(email,password)"
   ]
  },
  {
   "cell_type": "code",
   "execution_count": 35,
   "metadata": {},
   "outputs": [
    {
     "data": {
      "text/plain": [
       "('OK',\n",
       " [b'(\\\\HasNoChildren) \"/\" \"INBOX\"',\n",
       "  b'(\\\\HasNoChildren) \"/\" \"Notes\"',\n",
       "  b'(\\\\HasChildren \\\\Noselect) \"/\" \"[Gmail]\"',\n",
       "  b'(\\\\All \\\\HasNoChildren) \"/\" \"[Gmail]/All Mail\"',\n",
       "  b'(\\\\Drafts \\\\HasNoChildren) \"/\" \"[Gmail]/Drafts\"',\n",
       "  b'(\\\\HasNoChildren \\\\Important) \"/\" \"[Gmail]/Important\"',\n",
       "  b'(\\\\HasNoChildren \\\\Sent) \"/\" \"[Gmail]/Sent Mail\"',\n",
       "  b'(\\\\HasNoChildren \\\\Junk) \"/\" \"[Gmail]/Spam\"',\n",
       "  b'(\\\\Flagged \\\\HasNoChildren) \"/\" \"[Gmail]/Starred\"',\n",
       "  b'(\\\\HasNoChildren \\\\Trash) \"/\" \"[Gmail]/Trash\"'])"
      ]
     },
     "execution_count": 35,
     "metadata": {},
     "output_type": "execute_result"
    }
   ],
   "source": [
    "mail_server.list()"
   ]
  },
  {
   "cell_type": "code",
   "execution_count": 36,
   "metadata": {},
   "outputs": [
    {
     "data": {
      "text/plain": [
       "('OK', [b'14006'])"
      ]
     },
     "execution_count": 36,
     "metadata": {},
     "output_type": "execute_result"
    }
   ],
   "source": [
    "mail_server.select('INBOX')"
   ]
  },
  {
   "cell_type": "code",
   "execution_count": 49,
   "metadata": {},
   "outputs": [],
   "source": [
    "typ, data = mail_server.search(None, 'SUBJECT Test-Python')"
   ]
  },
  {
   "cell_type": "code",
   "execution_count": 50,
   "metadata": {},
   "outputs": [
    {
     "data": {
      "text/plain": [
       "'OK'"
      ]
     },
     "execution_count": 50,
     "metadata": {},
     "output_type": "execute_result"
    }
   ],
   "source": [
    "typ"
   ]
  },
  {
   "cell_type": "code",
   "execution_count": 51,
   "metadata": {
    "scrolled": true
   },
   "outputs": [
    {
     "data": {
      "text/plain": [
       "[b'14006']"
      ]
     },
     "execution_count": 51,
     "metadata": {},
     "output_type": "execute_result"
    }
   ],
   "source": [
    "data"
   ]
  },
  {
   "cell_type": "code",
   "execution_count": 48,
   "metadata": {},
   "outputs": [
    {
     "data": {
      "text/plain": [
       "b'14006'"
      ]
     },
     "execution_count": 48,
     "metadata": {},
     "output_type": "execute_result"
    }
   ],
   "source": [
    "email_id = data[0]\n",
    "email_id"
   ]
  },
  {
   "cell_type": "code",
   "execution_count": 52,
   "metadata": {},
   "outputs": [],
   "source": [
    "result, email_data = mail_server.fetch(email_id, '(RFC822)')"
   ]
  },
  {
   "cell_type": "code",
   "execution_count": 72,
   "metadata": {},
   "outputs": [
    {
     "data": {
      "text/plain": [
       "[(b'14006 (RFC822 {4746}',\n",
       "  b'Delivered-To: whoiskr@gmail.com\\r\\nReceived: by 2002:a50:370c:0:0:0:0:0 with SMTP id y12csp2568293ecb;\\r\\n        Tue, 21 Jul 2020 15:02:50 -0700 (PDT)\\r\\nX-Received: by 2002:a17:907:728a:: with SMTP id dt10mr26402983ejc.150.1595368970548;\\r\\n        Tue, 21 Jul 2020 15:02:50 -0700 (PDT)\\r\\nARC-Seal: i=1; a=rsa-sha256; t=1595368970; cv=none;\\r\\n        d=google.com; s=arc-20160816;\\r\\n        b=N7Mi0o61njfBd9m3XzlUptyjlthSmHRQPtLGhB+mty2ynM+tdA1/CaTYSWUZTh4Ekk\\r\\n         XFZUqz6pKEH1CK4zyeENy3IwYTx2y+++BExRJGt0Gf+e13DpdjMXIyeLmhzvGlpq8vsh\\r\\n         WCjR9wtdUCG/LHMjXz7CLEz73numdFU3I2JpFOWktvrGagMWIfASYiZ/O8XVXmk0rYj4\\r\\n         u6mdllCbIZaDCRv0pnwK/9NbSlBZZGojC3Om8BVYVqTLFFbGZtWkXh2cXDQfRWKubHD4\\r\\n         UleNVTXII/xOC2P9VguqI0qTkPNSnpo5oB8TLweq9f2VTUckgpBWWxPY3RKmJuUi4SGE\\r\\n         1f9g==\\r\\nARC-Message-Signature: i=1; a=rsa-sha256; c=relaxed/relaxed; d=google.com; s=arc-20160816;\\r\\n        h=to:subject:message-id:date:from:mime-version:dkim-signature;\\r\\n        bh=Cqx8IyQd/Dw+yEoSrWq/GhER9JAo0z2479Y+zJ3S2n4=;\\r\\n        b=jMdFf22obRjSwMmBM1Iikcu8kUiDOrDYKxRNApdREFq+LIWWwBA51D2ppjFU6E2EYY\\r\\n         ofJlf64CpP4uLLuJLHOuueApf/W9nLLiIQPibRHfARLuFQ+IrVcwqBU21IEoqPRXYZrL\\r\\n         TOA1iI0d7Xpxm90Zsn8Q3LdBXvJ0aUq91AIvL1W5LWDHtyqB/T2k+ABRQ/7ZqKUf6VmB\\r\\n         6Vncv6TIaptoh1pXnruzUUpg5IXE5NzxcZnQleN1ErNr1nUY9JQ4kfj92/8PGks8aiCb\\r\\n         ruKMuFc4AluJA3kzw7+lr1GHhZaLNhzAw0tfk0EZ76NiA7gPQ85euYyZMbi5EE+EnHU0\\r\\n         QTQA==\\r\\nARC-Authentication-Results: i=1; mx.google.com;\\r\\n       dkim=pass header.i=@gmail.com header.s=20161025 header.b=SZX4TO6T;\\r\\n       spf=pass (google.com: domain of sreebhavya.11@gmail.com designates 209.85.220.41 as permitted sender) smtp.mailfrom=sreebhavya.11@gmail.com;\\r\\n       dmarc=pass (p=NONE sp=QUARANTINE dis=NONE) header.from=gmail.com\\r\\nReturn-Path: <sreebhavya.11@gmail.com>\\r\\nReceived: from mail-sor-f41.google.com (mail-sor-f41.google.com. [209.85.220.41])\\r\\n        by mx.google.com with SMTPS id s10sor8433317ejh.67.2020.07.21.15.02.50\\r\\n        for <whoiskr@gmail.com>\\r\\n        (Google Transport Security);\\r\\n        Tue, 21 Jul 2020 15:02:50 -0700 (PDT)\\r\\nReceived-SPF: pass (google.com: domain of sreebhavya.11@gmail.com designates 209.85.220.41 as permitted sender) client-ip=209.85.220.41;\\r\\nAuthentication-Results: mx.google.com;\\r\\n       dkim=pass header.i=@gmail.com header.s=20161025 header.b=SZX4TO6T;\\r\\n       spf=pass (google.com: domain of sreebhavya.11@gmail.com designates 209.85.220.41 as permitted sender) smtp.mailfrom=sreebhavya.11@gmail.com;\\r\\n       dmarc=pass (p=NONE sp=QUARANTINE dis=NONE) header.from=gmail.com\\r\\nDKIM-Signature: v=1; a=rsa-sha256; c=relaxed/relaxed;\\r\\n        d=gmail.com; s=20161025;\\r\\n        h=mime-version:from:date:message-id:subject:to;\\r\\n        bh=Cqx8IyQd/Dw+yEoSrWq/GhER9JAo0z2479Y+zJ3S2n4=;\\r\\n        b=SZX4TO6Trv+qn7aCDBwHYExwp77nSJLWpedUBe0NMwwxjHVkVeLj5CT95GYLthhvN5\\r\\n         0pXSwszVoIKB51Y7wLvgqbAm1pYiyB5dFBCLnSNRSRJzeQYcNITf4SJPFax5vDICgob1\\r\\n         5FVcAAAvndhoMmbr6dKypOjSrNrWcICVou7a4huCZ8ccfco3eLV8cEM+Wuz7ibYrBdMf\\r\\n         uYE4+6EU+1iAjKlC3HWKBu5lmKGhM54vCCXsI1UQrXDs4i22WggGVpZNt5mrI178YoxE\\r\\n         dLesG8n4tN5L5Kqxib6tGV7DYWB5n0TDDMSPn4xeepL+jif4YFKQED+KzhYWYhtvVZTX\\r\\n         DENg==\\r\\nX-Google-DKIM-Signature: v=1; a=rsa-sha256; c=relaxed/relaxed;\\r\\n        d=1e100.net; s=20161025;\\r\\n        h=x-gm-message-state:mime-version:from:date:message-id:subject:to;\\r\\n        bh=Cqx8IyQd/Dw+yEoSrWq/GhER9JAo0z2479Y+zJ3S2n4=;\\r\\n        b=dPwGRFWg7RDi6+3XO914UyaAwntO98vOX2+Nk+SelpINK6MOIZ1gMH3uxJtRS3dY8j\\r\\n         WwZfGzVJccuqFu4OLfro4UkYHX200ITr5rG8UfxlLr0t5VbF2t1kQl4woffgqDWbCOci\\r\\n         PjfupqvuICleUx/X3mEdgZvSewvxkmhLqeRUGWmqBSqhMdY3ftC8NEhDxsmuNPKM6f9e\\r\\n         WB6ojTnttpd1r4UmMDL2Gyd0pG4k3A8MvYc1WwAAIRIApVsLp9O/DjZAMEpLG/gdRp6s\\r\\n         BDFRcGrcC4sS2pqLlk+aD0G6PJGk41Mk70YKTx3MmnPj5XmXI+xD4Gbtm5ITx2z7jtqs\\r\\n         KSqw==\\r\\nX-Gm-Message-State: AOAM532WwZDTjtuXm0wQbooUDSkDmO+yDZhXm+zkOCzoBtxkspzJK2zh\\r\\n\\tFTnn5vuF/x53A/xebVu0bk0Us2d1H2USjjtuzwjzlQ==\\r\\nX-Google-Smtp-Source: ABdhPJzw3H9jvAdsIxa39eKBcSpL1MHGKsjl4F6+Wnwh+HC0sLZzDakHzEHYT1NJxrh3skfZB8h5sGkDAT+qUFHVAvA=\\r\\nX-Received: by 2002:a17:906:2c53:: with SMTP id f19mr28619209ejh.523.1595368969893;\\r\\n Tue, 21 Jul 2020 15:02:49 -0700 (PDT)\\r\\nMIME-Version: 1.0\\r\\nFrom: Bhavya Sree <sreebhavya.11@gmail.com>\\r\\nDate: Tue, 21 Jul 2020 17:02:38 -0500\\r\\nMessage-ID: <CALcQ5=66=OLQpZZB0jq4c2okCNn1PfZy4pyniG7s=1FZjAHXXg@mail.gmail.com>\\r\\nSubject: Test Python\\r\\nTo: Konda Reddy <whoiskr@gmail.com>\\r\\nContent-Type: multipart/alternative; boundary=\"000000000000bc799405aafac89e\"\\r\\n\\r\\n--000000000000bc799405aafac89e\\r\\nContent-Type: text/plain; charset=\"UTF-8\"\\r\\n\\r\\nTest Script\\r\\n\\r\\n--000000000000bc799405aafac89e\\r\\nContent-Type: text/html; charset=\"UTF-8\"\\r\\n\\r\\n<div dir=\"ltr\">Test Script</div>\\r\\n\\r\\n--000000000000bc799405aafac89e--\\r\\n'),\n",
       " b')']"
      ]
     },
     "execution_count": 72,
     "metadata": {},
     "output_type": "execute_result"
    }
   ],
   "source": [
    "email_data"
   ]
  },
  {
   "cell_type": "code",
   "execution_count": 73,
   "metadata": {},
   "outputs": [
    {
     "data": {
      "text/plain": [
       "'OK'"
      ]
     },
     "execution_count": 73,
     "metadata": {},
     "output_type": "execute_result"
    }
   ],
   "source": [
    "result"
   ]
  },
  {
   "cell_type": "code",
   "execution_count": 68,
   "metadata": {},
   "outputs": [],
   "source": [
    "raw_email = email_data[0][1]"
   ]
  },
  {
   "cell_type": "code",
   "execution_count": 56,
   "metadata": {},
   "outputs": [],
   "source": [
    "raw_email_string = raw_email.decode('utf-8')"
   ]
  },
  {
   "cell_type": "code",
   "execution_count": 70,
   "metadata": {},
   "outputs": [],
   "source": [
    "import email\n",
    "email_message = email.message_from_string(raw_email_string)"
   ]
  },
  {
   "cell_type": "code",
   "execution_count": 59,
   "metadata": {},
   "outputs": [
    {
     "data": {
      "text/plain": [
       "<email.message.Message at 0x7fa1387ee9d0>"
      ]
     },
     "execution_count": 59,
     "metadata": {},
     "output_type": "execute_result"
    }
   ],
   "source": [
    "email_message"
   ]
  },
  {
   "cell_type": "code",
   "execution_count": 60,
   "metadata": {},
   "outputs": [
    {
     "name": "stdout",
     "output_type": "stream",
     "text": [
      "b'Test Script\\r\\n'\n"
     ]
    }
   ],
   "source": [
    "for part in email_message.walk():\n",
    "    \n",
    "    if part.get_content_type() == 'text/plain':\n",
    "        body = part.get_payload(decode = True)\n",
    "        print(body)"
   ]
  },
  {
   "cell_type": "code",
   "execution_count": null,
   "metadata": {},
   "outputs": [],
   "source": []
  }
 ],
 "metadata": {
  "kernelspec": {
   "display_name": "Python 3",
   "language": "python",
   "name": "python3"
  },
  "language_info": {
   "codemirror_mode": {
    "name": "ipython",
    "version": 3
   },
   "file_extension": ".py",
   "mimetype": "text/x-python",
   "name": "python",
   "nbconvert_exporter": "python",
   "pygments_lexer": "ipython3",
   "version": "3.7.6"
  }
 },
 "nbformat": 4,
 "nbformat_minor": 4
}
