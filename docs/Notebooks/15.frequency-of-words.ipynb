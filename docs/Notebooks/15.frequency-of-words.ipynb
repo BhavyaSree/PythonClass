{
 "cells": [
  {
   "cell_type": "markdown",
   "metadata": {},
   "source": [
    "## Write a program to compute the frequency of the words from the input. The output should output after sorting the key alphanumerically. \n",
    "Suppose the following input is supplied to the program:  \n",
    "**New to Python or choosing between Python 2 and Python 3? Read Python 2 or Python 3.**  \n",
    "\n",
    "Then, the output should be:  \n",
    "2:2  \n",
    "3.:1  \n",
    "3?:1  \n",
    "New:1  \n",
    "Python:5  \n",
    "Read:1  \n",
    "and:1  \n",
    "between:1  \n",
    "choosing:1  \n",
    "or:2  \n",
    "to:1  "
   ]
  },
  {
   "cell_type": "code",
   "execution_count": 13,
   "metadata": {},
   "outputs": [],
   "source": [
    "def frequency(input):\n",
    "    freq = {}\n",
    "    \n",
    "    for word in input.split():\n",
    "        freq[word] = freq.get(word, 0) + 1\n",
    "        \n",
    "    words = list(freq.keys())\n",
    "    words.sort()\n",
    "    \n",
    "    for w in words:\n",
    "        print(f'{w}:{freq[w]}')"
   ]
  },
  {
   "cell_type": "code",
   "execution_count": 14,
   "metadata": {},
   "outputs": [
    {
     "name": "stdout",
     "output_type": "stream",
     "text": [
      "2:2\n",
      "3.:1\n",
      "3?:1\n",
      "New:1\n",
      "Python:5\n",
      "Read:1\n",
      "and:1\n",
      "between:1\n",
      "choosing:1\n",
      "or:2\n",
      "to:1\n"
     ]
    }
   ],
   "source": [
    "frequency('New to Python or choosing between Python 2 and Python 3? Read Python 2 or Python 3.')"
   ]
  },
  {
   "cell_type": "code",
   "execution_count": null,
   "metadata": {},
   "outputs": [],
   "source": [
    "freq = {}   # frequency of words in text\n",
    "line = raw_input()\n",
    "for word in line.split():\n",
    "    freq[word] = freq.get(word,0)+1\n",
    "\n",
    "words = freq.keys()\n",
    "words.sort()\n",
    "\n",
    "for w in words:\n",
    "    print \"%s:%d\" % (w,freq[w])"
   ]
  }
 ],
 "metadata": {
  "kernelspec": {
   "display_name": "Python 3",
   "language": "python",
   "name": "python3"
  },
  "language_info": {
   "codemirror_mode": {
    "name": "ipython",
    "version": 3
   },
   "file_extension": ".py",
   "mimetype": "text/x-python",
   "name": "python",
   "nbconvert_exporter": "python",
   "pygments_lexer": "ipython3",
   "version": "3.7.6"
  }
 },
 "nbformat": 4,
 "nbformat_minor": 4
}
